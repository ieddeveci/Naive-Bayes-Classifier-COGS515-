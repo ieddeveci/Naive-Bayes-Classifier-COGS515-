{
 "cells": [
  {
   "cell_type": "code",
   "execution_count": 1,
   "metadata": {},
   "outputs": [],
   "source": [
    "import string\n",
    "import math"
   ]
  },
  {
   "cell_type": "code",
   "execution_count": 2,
   "metadata": {},
   "outputs": [],
   "source": [
    "# Functions for reading data, tokenizing text, creating vocabulary, filtering messages by class, and counting word occurrences in tokenized messages\n",
    "\n",
    "def readData(path):\n",
    "    text = []\n",
    "    with open(path, 'r') as f:\n",
    "        text = f.read().splitlines()\n",
    "    return text\n",
    "\n",
    "def tokenize(text):\n",
    "    text = text.translate(str.maketrans(string.punctuation, ' ' * len(string.punctuation)))\n",
    "    tokens = [word.lower() for word in text.split() if word.isalpha()]\n",
    "    return tokens\n",
    "\n",
    "def tokenize_messages(messages):\n",
    "    message = []\n",
    "    for i in messages:\n",
    "        message.append(tokenize(i))\n",
    "    return message\n",
    "\n",
    "def create_vocabulary(tokenized_messages):\n",
    "    vocabulary = set()\n",
    "    for i in tokenized_messages:\n",
    "        vocabulary.update(i)\n",
    "    return sorted(vocabulary)\n",
    "\n",
    "def filter_messages(messages, classes):\n",
    "    hams = [message for message, label in zip(messages, classes) if label == \"0\"]\n",
    "    spams = [message for message, label in zip(messages, classes) if label == \"1\"]\n",
    "    return hams, spams\n",
    "\n",
    "def count_word(messages, word):\n",
    "    count = sum(tokens.count(word) for tokens in messages)\n",
    "    return count"
   ]
  },
  {
   "cell_type": "code",
   "execution_count": 3,
   "metadata": {},
   "outputs": [],
   "source": [
    "# A Naive Bayes spam filter class with methods for parameter setting, spam classification, and probability estimation based on tokenized messages\n",
    "\n",
    "class NaiveBayesSpamFilter(object):\n",
    "\n",
    "    def __init__(self, alpha = 1):\n",
    "        self.alpha = alpha\n",
    "        self.ham_messages = []\n",
    "        self.spam_messages = []\n",
    "        self.vocabulary = []\n",
    "        self.p_ham = 0\n",
    "        self.p_spam = 0\n",
    "\n",
    "    def set_parameters(self, messages, labels):\n",
    "        self.ham_messages, self.spam_messages = filter_messages(messages, labels)\n",
    "        total_messages = len(messages)\n",
    "        self.p_ham = len(self.ham_messages) / total_messages\n",
    "        self.p_spam = len(self.spam_messages) / total_messages\n",
    "        self.vocabulary = create_vocabulary(messages)\n",
    "        \n",
    "    def classify(self, message):\n",
    "        tokens = tokenize(message)\n",
    "        log_p_ham = math.log(self.p_ham)\n",
    "        log_p_spam = math.log(self.p_spam)\n",
    "        total_ham_words = sum(len(msg) for msg in self.ham_messages)\n",
    "        total_spam_words = sum(len(msg) for msg in self.spam_messages)\n",
    "        vocab_size = len(self.vocabulary)\n",
    "\n",
    "        for word in tokens:\n",
    "            ham_word_count = count_word(self.ham_messages, word)\n",
    "            log_p_ham += math.log((ham_word_count + self.alpha) / (total_ham_words + self.alpha * vocab_size))\n",
    "            spam_word_count = count_word(self.spam_messages, word)\n",
    "            log_p_spam += math.log((spam_word_count + self.alpha) / (total_spam_words + self.alpha * vocab_size))\n",
    "\n",
    "        p_ham_given_message = math.exp(log_p_ham)\n",
    "        p_spam_given_message = math.exp(log_p_spam)\n",
    "        total_probability = p_ham_given_message + p_spam_given_message\n",
    "        p_ham_given_message /= total_probability\n",
    "        p_spam_given_message /= total_probability\n",
    "\n",
    "        print(f\"P(spam | message): {p_spam_given_message}\")\n",
    "        print(f\"P(ham | message): {p_ham_given_message}\")\n",
    "\n",
    "        return 1 if p_spam_given_message > p_ham_given_message else 0\n"
   ]
  },
  {
   "cell_type": "code",
   "execution_count": null,
   "metadata": {},
   "outputs": [],
   "source": [
    "# Demonstrates the use of a Naive Bayes spam filter by reading messages and labels, filtering by class, setting parameters, and classifying a sample text\n",
    "\n",
    "# Read messages and labels from corresponding datasets. \n",
    "messages = readData(\"UPLOAD A DATASET FOR MESSAGES\") \n", 
    "labels = readData(\"UPLOAD A DATASET FOR LABELS\")\n",
    "# Filter messages into ham and spam based on labels\n",
    "hams, spams = filter_messages(tokenize_messages(messages), labels) \n",
    "\n",
    "# Initialize and set up the Naive Bayes spam filter\n",
    "nb_filter = NaiveBayesSpamFilter()\n",
    "nb_filter.set_parameters(messages, labels)\n",
    "print(nb_filter.classify(\"Example Text\")) # Enter your text to be classified"
   ]
  }
 ],
 "metadata": {
  "kernelspec": {
   "display_name": "Python 3",
   "language": "python",
   "name": "python3"
  },
  "language_info": {
   "codemirror_mode": {
    "name": "ipython",
    "version": 3
   },
   "file_extension": ".py",
   "mimetype": "text/x-python",
   "name": "python",
   "nbconvert_exporter": "python",
   "pygments_lexer": "ipython3",
   "version": "3.9.13"
  }
 },
 "nbformat": 4,
 "nbformat_minor": 2
}
