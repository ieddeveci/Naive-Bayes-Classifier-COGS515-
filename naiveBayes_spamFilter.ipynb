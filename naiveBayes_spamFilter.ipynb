{
 "cells": [
  {
   "cell_type": "code",
   "execution_count": 1,
   "metadata": {},
   "outputs": [],
   "source": [
    "import string\n",
    "import math"
   ]
  },
  {
   "cell_type": "code",
   "execution_count": 2,
   "metadata": {},
   "outputs": [],
   "source": [
    "def tokenize(text):\n",
    "    text = text.translate(str.maketrans(string.punctuation, \" \" * len(string.punctuation)))\n",
    "    text = text.lower()\n",
    "    tokens = text.split()\n",
    "    return tokens\n",
    "\n",
    "def tokenize_messages(messages):\n",
    "    message = []\n",
    "    for i in messages:\n",
    "        message.append(tokenize(i))\n",
    "    return message\n",
    "\n",
    "def create_vocabulary(tokenized_messages):\n",
    "    vocabulary = set()\n",
    "    for i in tokenized_messages:\n",
    "        vocabulary.update(i)\n",
    "    return sorted(vocabulary)\n",
    "\n",
    "def filter_messages(messages, classes):\n",
    "    hams = [message for message, label in zip(messages, classes) if label == \"0\"]\n",
    "    spams = [message for message, label in zip(messages, classes) if label == \"1\"]\n",
    "    return hams, spams\n",
    "\n",
    "def count_word(messages, word):\n",
    "    count = sum(tokens.count(word) for tokens in messages)\n",
    "    return count"
   ]
  },
  {
   "cell_type": "code",
   "execution_count": 3,
   "metadata": {},
   "outputs": [],
   "source": [
    "class NaiveBayesSpamFilter(object):\n",
    "\n",
    "    def __init__(self, alpha = 1):\n",
    "        self.alpha = alpha\n",
    "        self.ham_msgs = []\n",
    "        self.spam_msgs = []\n",
    "        self.tokenized_spam = []\n",
    "        self.tokenized_ham = []\n",
    "        self.vocab = set()\n",
    "        self.p_ham = 0\n",
    "        self.p_spam = 0\n",
    "        self.log_p_ham = {}\n",
    "        self.log_p_spam = {}\n",
    "        self.total_ham_words = 0\n",
    "        self.total_spam_words = 0\n",
    "\n",
    "    def set_parameters(self, messages, labels):\n",
    "        self.ham_msgs, self.spam_msgs = filter_messages(messages, labels)\n",
    "        total_msgs = len(messages)\n",
    "        self.p_ham = (len(self.ham_msgs) + self.alpha) / (total_msgs + 2 * self.alpha)\n",
    "        self.p_spam = (len(self.spam_msgs) + self.alpha) / (total_msgs + 2 * self.alpha)\n",
    "\n",
    "        self.tokenized_ham = tokenize_messages(self.ham_msgs)\n",
    "        self.tokenized_spam = tokenize_messages(self.spam_msgs)\n",
    "        self.vocab = create_vocabulary(tokenize_messages(messages))\n",
    "        self.total_ham_words = len(self.tokenized_ham)\n",
    "        self.total_spam_words = len(self.tokenized_spam)\n",
    "\n",
    "        for word in self.vocab:\n",
    "            ham_word_count = count_word(self.tokenized_ham, word)\n",
    "            spam_word_count = count_word(self.tokenized_spam, word)\n",
    "            \n",
    "            p_ham_word = (ham_word_count + self.alpha) / (self.total_ham_words + 2 * self.alpha)\n",
    "            p_spam_word = (spam_word_count + self.alpha) / (self.total_spam_words + 2 * self.alpha)\n",
    "            \n",
    "            self.log_p_ham[word] = math.log(p_ham_word)\n",
    "            self.log_p_spam[word] = math.log(p_spam_word)\n",
    "\n",
    "    def classify(self, message):\n",
    "        words = tokenize(message)\n",
    "        log_ham = math.log(self.p_ham)\n",
    "        log_spam = math.log(self.p_spam)\n",
    "\n",
    "        for word in words:\n",
    "            if word in self.log_p_ham and word in self.log_p_spam:\n",
    "                log_ham += self.log_p_ham[word]\n",
    "                log_spam += self.log_p_spam[word]\n",
    "\n",
    "        p_ham_msg = math.exp(log_ham)\n",
    "        p_spam_msg = math.exp(log_spam)\n",
    "        total = p_ham_msg + p_spam_msg\n",
    "        p_ham_msg /= total\n",
    "        p_spam_msg /= total\n",
    "\n",
    "        print(f\"P(spam | message): {p_spam_msg}\")\n",
    "        print(f\"P(ham | message): {p_ham_msg}\")\n",
    "        return 1 if p_spam_msg > p_ham_msg else 0"
   ]
  },
  {
   "cell_type": "code",
   "execution_count": null,
   "metadata": {},
   "outputs": [],
   "source": [
    "naiveBayesModel = NaiveBayesSpamFilter(1)\n",
    "naiveBayesModel.set_parameters([\"  Winner! Claim rare secret prize now!  \", \"'Medium-rare,' she said NOW!!\"],[\"1\",\"0\"])\n",
    "naiveBayesModel.classify(\"secret secret secret rare medium\")"
   ]
  }
 ],
 "metadata": {
  "kernelspec": {
   "display_name": "Python 3",
   "language": "python",
   "name": "python3"
  },
  "language_info": {
   "codemirror_mode": {
    "name": "ipython",
    "version": 3
   },
   "file_extension": ".py",
   "mimetype": "text/x-python",
   "name": "python",
   "nbconvert_exporter": "python",
   "pygments_lexer": "ipython3",
   "version": "3.9.13"
  }
 },
 "nbformat": 4,
 "nbformat_minor": 2
}
